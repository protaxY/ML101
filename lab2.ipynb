{
 "cells": [
  {
   "cell_type": "code",
   "execution_count": 17,
   "metadata": {},
   "outputs": [],
   "source": [
    "import math\n",
    "\n",
    "import numpy as np\n",
    "import pygmo as pg"
   ]
  },
  {
   "cell_type": "code",
   "execution_count": 20,
   "metadata": {},
   "outputs": [],
   "source": [
    "class mc_cormick_finction:\n",
    "\n",
    "    def fitness(self, x):\n",
    "        return [math.sin(x[0] + x[1]) + (x[0] - x[1]) ** 2 - 1.5 * x[0] + 2.5 * x[1] + 1]\n",
    "\n",
    "\n",
    "    def get_bounds(self):\n",
    "        return ([-1.5, -3], [4, 4])\n",
    "\n",
    "mc_cormick_global_min_x = -0.54719\n",
    "mc_cormick_global_min_y = -1.54719\n",
    "mc_cormick_global_min_value = -1.9133"
   ]
  },
  {
   "cell_type": "code",
   "execution_count": 34,
   "metadata": {},
   "outputs": [],
   "source": [
    "class levi13_finction:\n",
    "\n",
    "    def fitness(self, x):\n",
    "        return [math.sin(3 * math.pi * x[0]) ** 2 + (x[0] - 1) ** 2 * (1 + math.sin(3 * math.pi * x[1]) ** 2) + (x[1] - 1) ** 2 * (1 + math.sin(2 * math.pi * x[1]) ** 2)]\n",
    "\n",
    "\n",
    "    def get_bounds(self):\n",
    "        return ([-10, -10], [10, 10])\n",
    "\n",
    "levi13_global_min_x = 1\n",
    "levi13_global_min_y = 1\n",
    "levi13_global_min_value = 0"
   ]
  },
  {
   "cell_type": "code",
   "execution_count": 33,
   "metadata": {},
   "outputs": [
    {
     "name": "stdout",
     "output_type": "stream",
     "text": [
      "mc_cormick_finction\n",
      "generation number: 10\n",
      "pg.sade solution x: [0.99237193 1.1904525 ]\n",
      "pg.sade solution value: [0.07297244]\n",
      "error: 3.1408497900547947\n",
      "\n",
      "pg.gwo solution x: [1.00072116 1.00534394]\n",
      "pg.gwo solution value: [7.53062823e-05]\n",
      "error: 2.9852066044233148\n",
      "\n",
      "pg.sga solution x: [1.62428579 1.11851142]\n",
      "pg.sga solution value: [0.87628399]\n",
      "error: 3.4382075469740205\n"
     ]
    }
   ],
   "source": [
    "mc_cormick_problem = pg.problem(mc_cormick_finction())\n",
    "generation_number = 10\n",
    "\n",
    "mc_cormick_population_sade = pg.population(mc_cormick_problem, size = 20)\n",
    "mc_cormick_population_gwo = pg.population(mc_cormick_problem, size = 20)\n",
    "mc_cormick_population_sga = pg.population(mc_cormick_problem, size = 20)\n",
    "\n",
    "sade = pg.algorithm(pg.sade(gen = generation_number))\n",
    "gwo = pg.algorithm(pg.gwo(gen = generation_number))\n",
    "sga = pg.algorithm(pg.sga(gen = generation_number))\n",
    "\n",
    "mc_cormick_population_sade = sade.evolve(mc_cormick_population_sade)\n",
    "mc_cormick_population_gwo = gwo.evolve(mc_cormick_population_gwo)\n",
    "mc_cormick_population_sga = sga.evolve(mc_cormick_population_sga)\n",
    "\n",
    "best_fitness_sade = mc_cormick_population_sade.get_f()[mc_cormick_population_sade.best_idx()]\n",
    "best_fitness_gwo = mc_cormick_population_gwo.get_f()[mc_cormick_population_gwo.best_idx()]\n",
    "best_fitness_sga = mc_cormick_population_sga.get_f()[mc_cormick_population_sga.best_idx()]\n",
    "\n",
    "print('mc_cormick_finction')\n",
    "print(f'generation number: {generation_number}')\n",
    "print(f'pg.sade solution x: {mc_cormick_population_sade.get_x()[mc_cormick_population_sade.best_idx()]}') \n",
    "print(f'pg.sade solution value: {best_fitness_sade}')\n",
    "print(f'error: {np.linalg.norm(np.array([mc_cormick_global_min_x, mc_cormick_global_min_y]) - np.array(mc_cormick_population_sade.get_x()[mc_cormick_population_sade.best_idx()]))}')\n",
    "print()\n",
    "print(f'pg.gwo solution x: {mc_cormick_population_gwo.get_x()[mc_cormick_population_gwo.best_idx()]}') \n",
    "print(f'pg.gwo solution value: {best_fitness_gwo}')\n",
    "print(f'error: {np.linalg.norm(np.array([mc_cormick_global_min_x, mc_cormick_global_min_y]) - np.array(mc_cormick_population_gwo.get_x()[mc_cormick_population_gwo.best_idx()]))}')\n",
    "print()\n",
    "print(f'pg.sga solution x: {mc_cormick_population_sga.get_x()[mc_cormick_population_sga.best_idx()]}') \n",
    "print(f'pg.sga solution value: {best_fitness_sga}')\n",
    "print(f'error: {np.linalg.norm(np.array([mc_cormick_global_min_x, mc_cormick_global_min_y]) - np.array(mc_cormick_population_sga.get_x()[mc_cormick_population_sade.best_idx()]))}')"
   ]
  },
  {
   "cell_type": "code",
   "execution_count": 39,
   "metadata": {},
   "outputs": [
    {
     "name": "stdout",
     "output_type": "stream",
     "text": [
      "levi13_finction\n",
      "generation number: 100\n",
      "pg.sade solution x: [1.00000374 0.99996839]\n",
      "pg.sade solution value: [2.25255466e-09]\n",
      "error: 3.182894564791919e-05\n",
      "\n",
      "pg.gwo solution x: [1.00017659 1.00232099]\n",
      "pg.gwo solution value: [8.18916312e-06]\n",
      "error: 0.0023276956066219587\n",
      "\n",
      "pg.sga solution x: [0.65099004 0.97247764]\n",
      "pg.sga solution value: [0.15227274]\n",
      "error: 0.3500934593302626\n"
     ]
    }
   ],
   "source": [
    "levi13_problem = pg.problem(levi13_finction())\n",
    "generation_number = 100\n",
    "\n",
    "levi13_population_sade = pg.population(levi13_problem, size = 20)\n",
    "levi13_population_gwo = pg.population(levi13_problem, size = 20)\n",
    "levi13_population_sga = pg.population(levi13_problem, size = 20)\n",
    "\n",
    "sade = pg.algorithm(pg.sade(gen = generation_number))\n",
    "gwo = pg.algorithm(pg.gwo(gen = generation_number))\n",
    "sga = pg.algorithm(pg.sga(gen = generation_number))\n",
    "\n",
    "levi13_population_sade = sade.evolve(levi13_population_sade)\n",
    "levi13_population_gwo = gwo.evolve(levi13_population_gwo)\n",
    "levi13_population_sga = sga.evolve(levi13_population_sga)\n",
    "\n",
    "best_fitness_sade = levi13_population_sade.get_f()[levi13_population_sade.best_idx()]\n",
    "best_fitness_gwo = levi13_population_gwo.get_f()[levi13_population_gwo.best_idx()]\n",
    "best_fitness_sga = levi13_population_sga.get_f()[levi13_population_sga.best_idx()]\n",
    "\n",
    "print('levi13_finction')\n",
    "print(f'generation number: {generation_number}')\n",
    "print(f'pg.sade solution x: {levi13_population_sade.get_x()[levi13_population_sade.best_idx()]}') \n",
    "print(f'pg.sade solution value: {best_fitness_sade}')\n",
    "print(f'error: {np.linalg.norm(np.array([levi13_global_min_x, levi13_global_min_y]) - np.array(levi13_population_sade.get_x()[levi13_population_sade.best_idx()]))}')\n",
    "print()\n",
    "print(f'pg.gwo solution x: {levi13_population_gwo.get_x()[levi13_population_gwo.best_idx()]}') \n",
    "print(f'pg.gwo solution value: {best_fitness_gwo}')\n",
    "print(f'error: {np.linalg.norm(np.array([levi13_global_min_x, levi13_global_min_y]) - np.array(levi13_population_gwo.get_x()[levi13_population_gwo.best_idx()]))}')\n",
    "print()\n",
    "print(f'pg.sga solution x: {levi13_population_sga.get_x()[levi13_population_sga.best_idx()]}') \n",
    "print(f'pg.sga solution value: {best_fitness_sga}')\n",
    "print(f'error: {np.linalg.norm(np.array([levi13_global_min_x, levi13_global_min_y]) - np.array(levi13_population_sga.get_x()[levi13_population_sade.best_idx()]))}')"
   ]
  },
  {
   "cell_type": "code",
   "execution_count": null,
   "metadata": {},
   "outputs": [],
   "source": []
  }
 ],
 "metadata": {
  "kernelspec": {
   "display_name": "Python 3",
   "language": "python",
   "name": "python3"
  },
  "language_info": {
   "codemirror_mode": {
    "name": "ipython",
    "version": 3
   },
   "file_extension": ".py",
   "mimetype": "text/x-python",
   "name": "python",
   "nbconvert_exporter": "python",
   "pygments_lexer": "ipython3",
   "version": "3.10.12"
  }
 },
 "nbformat": 4,
 "nbformat_minor": 2
}
